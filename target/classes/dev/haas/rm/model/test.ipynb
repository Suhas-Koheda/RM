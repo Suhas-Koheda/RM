{
 "cells": [
  {
   "cell_type": "code",
   "metadata": {
    "collapsed": true,
    "ExecuteTime": {
     "end_time": "2025-05-16T17:39:39.653057658Z",
     "start_time": "2025-05-16T17:39:38.089381991Z"
    }
   },
   "source": [
    "// For Spring's MockMultipartFile\n",
    "@file:DependsOn(\"org.springframework:spring-test:5.3.30\")\n",
    "\n",
    "// For MultipartFile interface\n",
    "@file:DependsOn(\"org.springframework:spring-web:5.3.30\")\n",
    "\n",
    "// For Apache PDFBox (PDF text extraction)\n",
    "@file:DependsOn(\"org.apache.pdfbox:pdfbox:2.0.29\")\n",
    "\n",
    "import org.springframework.mock.web.MockMultipartFile\n",
    "import org.springframework.web.multipart.MultipartFile\n",
    "import org.apache.pdfbox.pdmodel.PDDocument\n",
    "import org.apache.pdfbox.text.PDFTextStripper\n",
    "import java.nio.file.Files\n",
    "import java.nio.file.Paths\n",
    "\n",
    "val path = Paths.get(\"/home/ssp/Java/rm/src/main/resources/static/Suhas_Koheda_Kotlin_Resume.pdf\")\n",
    "val pdfBytes = Files.readAllBytes(path)\n",
    "val document = PDDocument.load(pdfBytes)\n",
    "val stripper = PDFTextStripper()\n",
    "val text = stripper.getText(document)\n",
    "println(\"Extracted text: $text\")\n",
    "document.close()\n"
   ],
   "outputs": [
    {
     "name": "stdout",
     "output_type": "stream",
     "text": [
      "Extracted text: Suhas Koheda\n",
      "sharmasuhas450@gmail.com — +91-7396824087 — github.com/suhas-koheda — Portfolio\n",
      "— LinkedIn\n",
      "EDUCATION\n",
      "Vellore Institute of Technology, Chennai, India 2023 – 2027\n",
      "Computer Science - AIML — CGPA: 9.0\n",
      "Nine Education Academy, Hyderabad 2021 – 2023\n",
      "Telangana State Board of Intermediate Education — Aggregate: 93.5%\n",
      "Sri Sai Public School, Hyderabad 2020 – 2021\n",
      "ICSE (Class X) — CGPA: 9.2\n",
      "SKILLS\n",
      "Java — Kotlin — KMP - Android — Java Servlets — Spring Boot — C— C++— Python — Flask — JavaScript\n",
      "— NodeJS — React — NextJS — MongoDB — PostgreSQL — Git - Linux\n",
      "OPEN SOURCE CONTRIBUTIONS\n",
      "LangChain4j — Spring Boot Starter for Gemini AI Java — Spring Boot Oct 2024\n",
      "Implemented Spring Boot starter configuration files for Gemini AI, published to Maven Central.\n",
      "Code — Maven Repository\n",
      "LangChain4j — Brave API Web Search Integration Java Ongoing\n",
      "Developing Brave API integration for web search functionality.\n",
      "Code — No live website\n",
      "PROJECTS\n",
      "MovieBuff Kotlin Multiplatform — Compose Multiplatform — Coil — Ktor — Voyager — TMDb API May\n",
      "2025\n",
      "Developed cross-platform movie browsing application with responsive UI supporting search, filtering, and detailed\n",
      "views. Implemented MVVM architecture with Coroutines and Flow for state management across Android, iOS,\n",
      "and Desktop.\n",
      "Code — No live website\n",
      "Habit Tracker Backend Kotlin — Ktor — PostgreSQL Dec 2024\n",
      "Developed JWT-authenticated REST API with multiple endpoints. Implemented habit tracking with Exposed\n",
      "ORM for improved performance.\n",
      "Code — No live website\n",
      "Java Gemini AI Wrapper Java — Gemini API Nov 2024\n",
      "Developed Java wrapper for Gemini API with multiple authentication protocols.\n",
      "Code — No live website\n",
      "WORK EXPERIENCE\n",
      "Newton School Coding Club — Web Developer Sept 2024 – Present\n",
      "Developed web applications using React/Next.js with high performance scores. Optimized load times through\n",
      "code improvements.\n",
      "Google Developer Club (GDG), VIT Chennai — Open Source Developer Oct 2024 – Present\n",
      "Contributed to multiple projects with numerous merged PRs. Mentored students in open-source workflows.\n",
      "1\n",
      "POSITIONS OF RESPONSIBILITY\n",
      "Zero Bugs Club, Chennai — Design Lead (June 2024 - Sept 2024), Content Writer, Designer (Feb 2023 -\n",
      "May 2024)\n",
      "Led team of designers for tech events. Created design assets for club activities and events.\n",
      "2\n",
      "\n"
     ]
    }
   ],
   "execution_count": 12
  }
 ],
 "metadata": {
  "kernelspec": {
   "display_name": "Kotlin",
   "language": "kotlin",
   "name": "kotlin"
  },
  "language_info": {
   "name": "kotlin",
   "version": "1.9.23",
   "mimetype": "text/x-kotlin",
   "file_extension": ".kt",
   "pygments_lexer": "kotlin",
   "codemirror_mode": "text/x-kotlin",
   "nbconvert_exporter": ""
  }
 },
 "nbformat": 4,
 "nbformat_minor": 0
}
